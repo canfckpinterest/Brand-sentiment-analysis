{
  "nbformat": 4,
  "nbformat_minor": 0,
  "metadata": {
    "colab": {
      "provenance": [],
      "gpuType": "T4",
      "mount_file_id": "13endHa-weER4e0NLxQM4rtPKuGMBceh4",
      "authorship_tag": "ABX9TyO8RjXQWDyg1+D1FNco3VrJ",
      "include_colab_link": true
    },
    "kernelspec": {
      "name": "python3",
      "display_name": "Python 3"
    },
    "language_info": {
      "name": "python"
    },
    "accelerator": "GPU",
    "widgets": {
      "application/vnd.jupyter.widget-state+json": {
        "c6ec87bcc93243f0951c5e737a3023d2": {
          "model_module": "@jupyter-widgets/controls",
          "model_name": "HBoxModel",
          "model_module_version": "1.5.0",
          "state": {
            "_dom_classes": [],
            "_model_module": "@jupyter-widgets/controls",
            "_model_module_version": "1.5.0",
            "_model_name": "HBoxModel",
            "_view_count": null,
            "_view_module": "@jupyter-widgets/controls",
            "_view_module_version": "1.5.0",
            "_view_name": "HBoxView",
            "box_style": "",
            "children": [
              "IPY_MODEL_c9c2526ef31b47bd878a338dc6586341",
              "IPY_MODEL_912ed03eb97d427f83df1965cb5a84c6",
              "IPY_MODEL_b3e8ab85cbdf44d7b6e6d32e0abb6c3e"
            ],
            "layout": "IPY_MODEL_c96babc6c0d342269af10a616cf2889f"
          }
        },
        "c9c2526ef31b47bd878a338dc6586341": {
          "model_module": "@jupyter-widgets/controls",
          "model_name": "HTMLModel",
          "model_module_version": "1.5.0",
          "state": {
            "_dom_classes": [],
            "_model_module": "@jupyter-widgets/controls",
            "_model_module_version": "1.5.0",
            "_model_name": "HTMLModel",
            "_view_count": null,
            "_view_module": "@jupyter-widgets/controls",
            "_view_module_version": "1.5.0",
            "_view_name": "HTMLView",
            "description": "",
            "description_tooltip": null,
            "layout": "IPY_MODEL_40eed11ddfcf4117ae2ccc39c377b94d",
            "placeholder": "​",
            "style": "IPY_MODEL_64fd7f67380147e8b65f9cd4417751db",
            "value": "100%"
          }
        },
        "912ed03eb97d427f83df1965cb5a84c6": {
          "model_module": "@jupyter-widgets/controls",
          "model_name": "FloatProgressModel",
          "model_module_version": "1.5.0",
          "state": {
            "_dom_classes": [],
            "_model_module": "@jupyter-widgets/controls",
            "_model_module_version": "1.5.0",
            "_model_name": "FloatProgressModel",
            "_view_count": null,
            "_view_module": "@jupyter-widgets/controls",
            "_view_module_version": "1.5.0",
            "_view_name": "ProgressView",
            "bar_style": "success",
            "description": "",
            "description_tooltip": null,
            "layout": "IPY_MODEL_9c03860e01664593a75d372837562e34",
            "max": 53,
            "min": 0,
            "orientation": "horizontal",
            "style": "IPY_MODEL_a9a1ea42f346464e95759934727d1764",
            "value": 53
          }
        },
        "b3e8ab85cbdf44d7b6e6d32e0abb6c3e": {
          "model_module": "@jupyter-widgets/controls",
          "model_name": "HTMLModel",
          "model_module_version": "1.5.0",
          "state": {
            "_dom_classes": [],
            "_model_module": "@jupyter-widgets/controls",
            "_model_module_version": "1.5.0",
            "_model_name": "HTMLModel",
            "_view_count": null,
            "_view_module": "@jupyter-widgets/controls",
            "_view_module_version": "1.5.0",
            "_view_name": "HTMLView",
            "description": "",
            "description_tooltip": null,
            "layout": "IPY_MODEL_f6440218b3cd4cd18e5b13e17c3030a0",
            "placeholder": "​",
            "style": "IPY_MODEL_b9cedc1a6e0d4777822858e0a928c2fb",
            "value": " 53/53 [00:00&lt;00:00, 222.44it/s]"
          }
        },
        "c96babc6c0d342269af10a616cf2889f": {
          "model_module": "@jupyter-widgets/base",
          "model_name": "LayoutModel",
          "model_module_version": "1.2.0",
          "state": {
            "_model_module": "@jupyter-widgets/base",
            "_model_module_version": "1.2.0",
            "_model_name": "LayoutModel",
            "_view_count": null,
            "_view_module": "@jupyter-widgets/base",
            "_view_module_version": "1.2.0",
            "_view_name": "LayoutView",
            "align_content": null,
            "align_items": null,
            "align_self": null,
            "border": null,
            "bottom": null,
            "display": null,
            "flex": null,
            "flex_flow": null,
            "grid_area": null,
            "grid_auto_columns": null,
            "grid_auto_flow": null,
            "grid_auto_rows": null,
            "grid_column": null,
            "grid_gap": null,
            "grid_row": null,
            "grid_template_areas": null,
            "grid_template_columns": null,
            "grid_template_rows": null,
            "height": null,
            "justify_content": null,
            "justify_items": null,
            "left": null,
            "margin": null,
            "max_height": null,
            "max_width": null,
            "min_height": null,
            "min_width": null,
            "object_fit": null,
            "object_position": null,
            "order": null,
            "overflow": null,
            "overflow_x": null,
            "overflow_y": null,
            "padding": null,
            "right": null,
            "top": null,
            "visibility": null,
            "width": null
          }
        },
        "40eed11ddfcf4117ae2ccc39c377b94d": {
          "model_module": "@jupyter-widgets/base",
          "model_name": "LayoutModel",
          "model_module_version": "1.2.0",
          "state": {
            "_model_module": "@jupyter-widgets/base",
            "_model_module_version": "1.2.0",
            "_model_name": "LayoutModel",
            "_view_count": null,
            "_view_module": "@jupyter-widgets/base",
            "_view_module_version": "1.2.0",
            "_view_name": "LayoutView",
            "align_content": null,
            "align_items": null,
            "align_self": null,
            "border": null,
            "bottom": null,
            "display": null,
            "flex": null,
            "flex_flow": null,
            "grid_area": null,
            "grid_auto_columns": null,
            "grid_auto_flow": null,
            "grid_auto_rows": null,
            "grid_column": null,
            "grid_gap": null,
            "grid_row": null,
            "grid_template_areas": null,
            "grid_template_columns": null,
            "grid_template_rows": null,
            "height": null,
            "justify_content": null,
            "justify_items": null,
            "left": null,
            "margin": null,
            "max_height": null,
            "max_width": null,
            "min_height": null,
            "min_width": null,
            "object_fit": null,
            "object_position": null,
            "order": null,
            "overflow": null,
            "overflow_x": null,
            "overflow_y": null,
            "padding": null,
            "right": null,
            "top": null,
            "visibility": null,
            "width": null
          }
        },
        "64fd7f67380147e8b65f9cd4417751db": {
          "model_module": "@jupyter-widgets/controls",
          "model_name": "DescriptionStyleModel",
          "model_module_version": "1.5.0",
          "state": {
            "_model_module": "@jupyter-widgets/controls",
            "_model_module_version": "1.5.0",
            "_model_name": "DescriptionStyleModel",
            "_view_count": null,
            "_view_module": "@jupyter-widgets/base",
            "_view_module_version": "1.2.0",
            "_view_name": "StyleView",
            "description_width": ""
          }
        },
        "9c03860e01664593a75d372837562e34": {
          "model_module": "@jupyter-widgets/base",
          "model_name": "LayoutModel",
          "model_module_version": "1.2.0",
          "state": {
            "_model_module": "@jupyter-widgets/base",
            "_model_module_version": "1.2.0",
            "_model_name": "LayoutModel",
            "_view_count": null,
            "_view_module": "@jupyter-widgets/base",
            "_view_module_version": "1.2.0",
            "_view_name": "LayoutView",
            "align_content": null,
            "align_items": null,
            "align_self": null,
            "border": null,
            "bottom": null,
            "display": null,
            "flex": null,
            "flex_flow": null,
            "grid_area": null,
            "grid_auto_columns": null,
            "grid_auto_flow": null,
            "grid_auto_rows": null,
            "grid_column": null,
            "grid_gap": null,
            "grid_row": null,
            "grid_template_areas": null,
            "grid_template_columns": null,
            "grid_template_rows": null,
            "height": null,
            "justify_content": null,
            "justify_items": null,
            "left": null,
            "margin": null,
            "max_height": null,
            "max_width": null,
            "min_height": null,
            "min_width": null,
            "object_fit": null,
            "object_position": null,
            "order": null,
            "overflow": null,
            "overflow_x": null,
            "overflow_y": null,
            "padding": null,
            "right": null,
            "top": null,
            "visibility": null,
            "width": null
          }
        },
        "a9a1ea42f346464e95759934727d1764": {
          "model_module": "@jupyter-widgets/controls",
          "model_name": "ProgressStyleModel",
          "model_module_version": "1.5.0",
          "state": {
            "_model_module": "@jupyter-widgets/controls",
            "_model_module_version": "1.5.0",
            "_model_name": "ProgressStyleModel",
            "_view_count": null,
            "_view_module": "@jupyter-widgets/base",
            "_view_module_version": "1.2.0",
            "_view_name": "StyleView",
            "bar_color": null,
            "description_width": ""
          }
        },
        "f6440218b3cd4cd18e5b13e17c3030a0": {
          "model_module": "@jupyter-widgets/base",
          "model_name": "LayoutModel",
          "model_module_version": "1.2.0",
          "state": {
            "_model_module": "@jupyter-widgets/base",
            "_model_module_version": "1.2.0",
            "_model_name": "LayoutModel",
            "_view_count": null,
            "_view_module": "@jupyter-widgets/base",
            "_view_module_version": "1.2.0",
            "_view_name": "LayoutView",
            "align_content": null,
            "align_items": null,
            "align_self": null,
            "border": null,
            "bottom": null,
            "display": null,
            "flex": null,
            "flex_flow": null,
            "grid_area": null,
            "grid_auto_columns": null,
            "grid_auto_flow": null,
            "grid_auto_rows": null,
            "grid_column": null,
            "grid_gap": null,
            "grid_row": null,
            "grid_template_areas": null,
            "grid_template_columns": null,
            "grid_template_rows": null,
            "height": null,
            "justify_content": null,
            "justify_items": null,
            "left": null,
            "margin": null,
            "max_height": null,
            "max_width": null,
            "min_height": null,
            "min_width": null,
            "object_fit": null,
            "object_position": null,
            "order": null,
            "overflow": null,
            "overflow_x": null,
            "overflow_y": null,
            "padding": null,
            "right": null,
            "top": null,
            "visibility": null,
            "width": null
          }
        },
        "b9cedc1a6e0d4777822858e0a928c2fb": {
          "model_module": "@jupyter-widgets/controls",
          "model_name": "DescriptionStyleModel",
          "model_module_version": "1.5.0",
          "state": {
            "_model_module": "@jupyter-widgets/controls",
            "_model_module_version": "1.5.0",
            "_model_name": "DescriptionStyleModel",
            "_view_count": null,
            "_view_module": "@jupyter-widgets/base",
            "_view_module_version": "1.2.0",
            "_view_name": "StyleView",
            "description_width": ""
          }
        }
      }
    }
  },
  "cells": [
    {
      "cell_type": "markdown",
      "metadata": {
        "id": "view-in-github",
        "colab_type": "text"
      },
      "source": [
        "<a href=\"https://colab.research.google.com/github/canfckpinterest/Brand-sentiment-analysis/blob/main/statistical_approach.ipynb\" target=\"_parent\"><img src=\"https://colab.research.google.com/assets/colab-badge.svg\" alt=\"Open In Colab\"/></a>"
      ]
    },
    {
      "cell_type": "markdown",
      "source": [
        "# Imports and environment preprocessing"
      ],
      "metadata": {
        "id": "UIf_F7Y72A1i"
      }
    },
    {
      "cell_type": "code",
      "source": [
        "!ln -s /content/drive/MyDrive/Colab_Notebooks/Projects/'brand sentiment analysis' /project_path\n",
        "!mkdir ./utils\n",
        "!mkdir ./data\n",
        "\n",
        "!cp /project_path/data/datasets.zip ../\n",
        "!unzip ../datasets.zip -d ./data\n",
        "\n",
        "!cp /project_path/utils/preprocessing_train_data.py ./utils\n",
        "!cp /project_path/utils/model_training.py ./utils"
      ],
      "metadata": {
        "colab": {
          "base_uri": "https://localhost:8080/"
        },
        "id": "yFdZzy3ofm48",
        "outputId": "812fd7ab-4fbb-4858-b660-d4f98e173f76"
      },
      "execution_count": 1,
      "outputs": [
        {
          "output_type": "stream",
          "name": "stdout",
          "text": [
            "Archive:  ../datasets.zip\n",
            "  inflating: ./data/test.csv         \n",
            "  inflating: ./data/train.csv        \n"
          ]
        }
      ]
    },
    {
      "cell_type": "code",
      "source": [
        "import pandas as pd\n",
        "import matplotlib.pyplot as plt\n",
        "import seaborn as sns\n",
        "import numpy as np\n",
        "import copy\n",
        "from tqdm.notebook import trange, tqdm\n",
        "from IPython import display\n",
        "from typing import List, Tuple, NoReturn\n",
        "\n",
        "import re\n",
        "import collections\n",
        "import scipy\n",
        "import nltk\n",
        "from nltk.tokenize import TweetTokenizer\n",
        "from nltk.corpus import stopwords\n",
        "nltk.download('stopwords');\n",
        "\n",
        "import torch\n",
        "import torch.nn as nn\n",
        "import torch.nn.functional as F\n",
        "from torch.utils.data import Dataset, DataLoader\n",
        "\n",
        "from sklearn.feature_extraction.text import TfidfVectorizer\n",
        "from sklearn.linear_model import LogisticRegression\n",
        "from sklearn.model_selection import train_test_split\n",
        "from sklearn.metrics import classification_report\n",
        "\n",
        "from utils.preprocessing_train_data import fix_train_dataset\n",
        "from utils.model_training import train_model\n",
        "from utils.model_training import predict_model\n",
        "import warnings\n",
        "warnings.filterwarnings('ignore')\n",
        "\n",
        "RANDOM_STATE = 42\n",
        "TRAIN_PATH = '/content/data/train.csv'\n",
        "TEST_PATH = '/content/data/test.csv'\n",
        "MAX_DF = 0.8\n",
        "MIN_DF = 5"
      ],
      "metadata": {
        "id": "KFRUSpHfoZkn",
        "colab": {
          "base_uri": "https://localhost:8080/"
        },
        "outputId": "ddb5f36e-faea-4607-db38-d4c42c2c9757"
      },
      "execution_count": 2,
      "outputs": [
        {
          "output_type": "stream",
          "name": "stderr",
          "text": [
            "[nltk_data] Downloading package stopwords to /root/nltk_data...\n",
            "[nltk_data]   Unzipping corpora/stopwords.zip.\n"
          ]
        }
      ]
    },
    {
      "cell_type": "markdown",
      "source": [
        "# Look at the data"
      ],
      "metadata": {
        "id": "c8QClKoYKArQ"
      }
    },
    {
      "cell_type": "code",
      "source": [
        "df_train = fix_train_dataset(TRAIN_PATH)\n",
        "print(df_train.shape)\n",
        "df_train.head()"
      ],
      "metadata": {
        "colab": {
          "base_uri": "https://localhost:8080/",
          "height": 223
        },
        "id": "72xKl2GsKAbD",
        "outputId": "1b26e8cb-b42b-4f00-8fd4-116b9e0c99e3"
      },
      "execution_count": 3,
      "outputs": [
        {
          "output_type": "stream",
          "name": "stdout",
          "text": [
            "(8552, 2)\n"
          ]
        },
        {
          "output_type": "execute_result",
          "data": {
            "text/plain": [
              "                                          tweet_text  \\\n",
              "0  .@wesley83 I have a 3G iPhone. After 3 hrs twe...   \n",
              "1  @jessedee Know about @fludapp ? Awesome iPad/i...   \n",
              "2  @swonderlin Can not wait for #iPad 2 also. The...   \n",
              "3  @sxsw I hope this year's festival isn't as cra...   \n",
              "4  @sxtxstate great stuff on Fri #SXSW: Marissa M...   \n",
              "\n",
              "  is_there_an_emotion_directed_at_a_brand_or_product  \n",
              "0                                   Negative emotion  \n",
              "1                                   Positive emotion  \n",
              "2                                   Positive emotion  \n",
              "3                                   Negative emotion  \n",
              "4                                   Positive emotion  "
            ],
            "text/html": [
              "\n",
              "  <div id=\"df-efeb4431-3636-45df-a882-90f1c5540eba\" class=\"colab-df-container\">\n",
              "    <div>\n",
              "<style scoped>\n",
              "    .dataframe tbody tr th:only-of-type {\n",
              "        vertical-align: middle;\n",
              "    }\n",
              "\n",
              "    .dataframe tbody tr th {\n",
              "        vertical-align: top;\n",
              "    }\n",
              "\n",
              "    .dataframe thead th {\n",
              "        text-align: right;\n",
              "    }\n",
              "</style>\n",
              "<table border=\"1\" class=\"dataframe\">\n",
              "  <thead>\n",
              "    <tr style=\"text-align: right;\">\n",
              "      <th></th>\n",
              "      <th>tweet_text</th>\n",
              "      <th>is_there_an_emotion_directed_at_a_brand_or_product</th>\n",
              "    </tr>\n",
              "  </thead>\n",
              "  <tbody>\n",
              "    <tr>\n",
              "      <th>0</th>\n",
              "      <td>.@wesley83 I have a 3G iPhone. After 3 hrs twe...</td>\n",
              "      <td>Negative emotion</td>\n",
              "    </tr>\n",
              "    <tr>\n",
              "      <th>1</th>\n",
              "      <td>@jessedee Know about @fludapp ? Awesome iPad/i...</td>\n",
              "      <td>Positive emotion</td>\n",
              "    </tr>\n",
              "    <tr>\n",
              "      <th>2</th>\n",
              "      <td>@swonderlin Can not wait for #iPad 2 also. The...</td>\n",
              "      <td>Positive emotion</td>\n",
              "    </tr>\n",
              "    <tr>\n",
              "      <th>3</th>\n",
              "      <td>@sxsw I hope this year's festival isn't as cra...</td>\n",
              "      <td>Negative emotion</td>\n",
              "    </tr>\n",
              "    <tr>\n",
              "      <th>4</th>\n",
              "      <td>@sxtxstate great stuff on Fri #SXSW: Marissa M...</td>\n",
              "      <td>Positive emotion</td>\n",
              "    </tr>\n",
              "  </tbody>\n",
              "</table>\n",
              "</div>\n",
              "    <div class=\"colab-df-buttons\">\n",
              "\n",
              "  <div class=\"colab-df-container\">\n",
              "    <button class=\"colab-df-convert\" onclick=\"convertToInteractive('df-efeb4431-3636-45df-a882-90f1c5540eba')\"\n",
              "            title=\"Convert this dataframe to an interactive table.\"\n",
              "            style=\"display:none;\">\n",
              "\n",
              "  <svg xmlns=\"http://www.w3.org/2000/svg\" height=\"24px\" viewBox=\"0 -960 960 960\">\n",
              "    <path d=\"M120-120v-720h720v720H120Zm60-500h600v-160H180v160Zm220 220h160v-160H400v160Zm0 220h160v-160H400v160ZM180-400h160v-160H180v160Zm440 0h160v-160H620v160ZM180-180h160v-160H180v160Zm440 0h160v-160H620v160Z\"/>\n",
              "  </svg>\n",
              "    </button>\n",
              "\n",
              "  <style>\n",
              "    .colab-df-container {\n",
              "      display:flex;\n",
              "      gap: 12px;\n",
              "    }\n",
              "\n",
              "    .colab-df-convert {\n",
              "      background-color: #E8F0FE;\n",
              "      border: none;\n",
              "      border-radius: 50%;\n",
              "      cursor: pointer;\n",
              "      display: none;\n",
              "      fill: #1967D2;\n",
              "      height: 32px;\n",
              "      padding: 0 0 0 0;\n",
              "      width: 32px;\n",
              "    }\n",
              "\n",
              "    .colab-df-convert:hover {\n",
              "      background-color: #E2EBFA;\n",
              "      box-shadow: 0px 1px 2px rgba(60, 64, 67, 0.3), 0px 1px 3px 1px rgba(60, 64, 67, 0.15);\n",
              "      fill: #174EA6;\n",
              "    }\n",
              "\n",
              "    .colab-df-buttons div {\n",
              "      margin-bottom: 4px;\n",
              "    }\n",
              "\n",
              "    [theme=dark] .colab-df-convert {\n",
              "      background-color: #3B4455;\n",
              "      fill: #D2E3FC;\n",
              "    }\n",
              "\n",
              "    [theme=dark] .colab-df-convert:hover {\n",
              "      background-color: #434B5C;\n",
              "      box-shadow: 0px 1px 3px 1px rgba(0, 0, 0, 0.15);\n",
              "      filter: drop-shadow(0px 1px 2px rgba(0, 0, 0, 0.3));\n",
              "      fill: #FFFFFF;\n",
              "    }\n",
              "  </style>\n",
              "\n",
              "    <script>\n",
              "      const buttonEl =\n",
              "        document.querySelector('#df-efeb4431-3636-45df-a882-90f1c5540eba button.colab-df-convert');\n",
              "      buttonEl.style.display =\n",
              "        google.colab.kernel.accessAllowed ? 'block' : 'none';\n",
              "\n",
              "      async function convertToInteractive(key) {\n",
              "        const element = document.querySelector('#df-efeb4431-3636-45df-a882-90f1c5540eba');\n",
              "        const dataTable =\n",
              "          await google.colab.kernel.invokeFunction('convertToInteractive',\n",
              "                                                    [key], {});\n",
              "        if (!dataTable) return;\n",
              "\n",
              "        const docLinkHtml = 'Like what you see? Visit the ' +\n",
              "          '<a target=\"_blank\" href=https://colab.research.google.com/notebooks/data_table.ipynb>data table notebook</a>'\n",
              "          + ' to learn more about interactive tables.';\n",
              "        element.innerHTML = '';\n",
              "        dataTable['output_type'] = 'display_data';\n",
              "        await google.colab.output.renderOutput(dataTable, element);\n",
              "        const docLink = document.createElement('div');\n",
              "        docLink.innerHTML = docLinkHtml;\n",
              "        element.appendChild(docLink);\n",
              "      }\n",
              "    </script>\n",
              "  </div>\n",
              "\n",
              "\n",
              "<div id=\"df-09704897-f2c0-45ad-b165-c28d9229fb1d\">\n",
              "  <button class=\"colab-df-quickchart\" onclick=\"quickchart('df-09704897-f2c0-45ad-b165-c28d9229fb1d')\"\n",
              "            title=\"Suggest charts\"\n",
              "            style=\"display:none;\">\n",
              "\n",
              "<svg xmlns=\"http://www.w3.org/2000/svg\" height=\"24px\"viewBox=\"0 0 24 24\"\n",
              "     width=\"24px\">\n",
              "    <g>\n",
              "        <path d=\"M19 3H5c-1.1 0-2 .9-2 2v14c0 1.1.9 2 2 2h14c1.1 0 2-.9 2-2V5c0-1.1-.9-2-2-2zM9 17H7v-7h2v7zm4 0h-2V7h2v10zm4 0h-2v-4h2v4z\"/>\n",
              "    </g>\n",
              "</svg>\n",
              "  </button>\n",
              "\n",
              "<style>\n",
              "  .colab-df-quickchart {\n",
              "      --bg-color: #E8F0FE;\n",
              "      --fill-color: #1967D2;\n",
              "      --hover-bg-color: #E2EBFA;\n",
              "      --hover-fill-color: #174EA6;\n",
              "      --disabled-fill-color: #AAA;\n",
              "      --disabled-bg-color: #DDD;\n",
              "  }\n",
              "\n",
              "  [theme=dark] .colab-df-quickchart {\n",
              "      --bg-color: #3B4455;\n",
              "      --fill-color: #D2E3FC;\n",
              "      --hover-bg-color: #434B5C;\n",
              "      --hover-fill-color: #FFFFFF;\n",
              "      --disabled-bg-color: #3B4455;\n",
              "      --disabled-fill-color: #666;\n",
              "  }\n",
              "\n",
              "  .colab-df-quickchart {\n",
              "    background-color: var(--bg-color);\n",
              "    border: none;\n",
              "    border-radius: 50%;\n",
              "    cursor: pointer;\n",
              "    display: none;\n",
              "    fill: var(--fill-color);\n",
              "    height: 32px;\n",
              "    padding: 0;\n",
              "    width: 32px;\n",
              "  }\n",
              "\n",
              "  .colab-df-quickchart:hover {\n",
              "    background-color: var(--hover-bg-color);\n",
              "    box-shadow: 0 1px 2px rgba(60, 64, 67, 0.3), 0 1px 3px 1px rgba(60, 64, 67, 0.15);\n",
              "    fill: var(--button-hover-fill-color);\n",
              "  }\n",
              "\n",
              "  .colab-df-quickchart-complete:disabled,\n",
              "  .colab-df-quickchart-complete:disabled:hover {\n",
              "    background-color: var(--disabled-bg-color);\n",
              "    fill: var(--disabled-fill-color);\n",
              "    box-shadow: none;\n",
              "  }\n",
              "\n",
              "  .colab-df-spinner {\n",
              "    border: 2px solid var(--fill-color);\n",
              "    border-color: transparent;\n",
              "    border-bottom-color: var(--fill-color);\n",
              "    animation:\n",
              "      spin 1s steps(1) infinite;\n",
              "  }\n",
              "\n",
              "  @keyframes spin {\n",
              "    0% {\n",
              "      border-color: transparent;\n",
              "      border-bottom-color: var(--fill-color);\n",
              "      border-left-color: var(--fill-color);\n",
              "    }\n",
              "    20% {\n",
              "      border-color: transparent;\n",
              "      border-left-color: var(--fill-color);\n",
              "      border-top-color: var(--fill-color);\n",
              "    }\n",
              "    30% {\n",
              "      border-color: transparent;\n",
              "      border-left-color: var(--fill-color);\n",
              "      border-top-color: var(--fill-color);\n",
              "      border-right-color: var(--fill-color);\n",
              "    }\n",
              "    40% {\n",
              "      border-color: transparent;\n",
              "      border-right-color: var(--fill-color);\n",
              "      border-top-color: var(--fill-color);\n",
              "    }\n",
              "    60% {\n",
              "      border-color: transparent;\n",
              "      border-right-color: var(--fill-color);\n",
              "    }\n",
              "    80% {\n",
              "      border-color: transparent;\n",
              "      border-right-color: var(--fill-color);\n",
              "      border-bottom-color: var(--fill-color);\n",
              "    }\n",
              "    90% {\n",
              "      border-color: transparent;\n",
              "      border-bottom-color: var(--fill-color);\n",
              "    }\n",
              "  }\n",
              "</style>\n",
              "\n",
              "  <script>\n",
              "    async function quickchart(key) {\n",
              "      const quickchartButtonEl =\n",
              "        document.querySelector('#' + key + ' button');\n",
              "      quickchartButtonEl.disabled = true;  // To prevent multiple clicks.\n",
              "      quickchartButtonEl.classList.add('colab-df-spinner');\n",
              "      try {\n",
              "        const charts = await google.colab.kernel.invokeFunction(\n",
              "            'suggestCharts', [key], {});\n",
              "      } catch (error) {\n",
              "        console.error('Error during call to suggestCharts:', error);\n",
              "      }\n",
              "      quickchartButtonEl.classList.remove('colab-df-spinner');\n",
              "      quickchartButtonEl.classList.add('colab-df-quickchart-complete');\n",
              "    }\n",
              "    (() => {\n",
              "      let quickchartButtonEl =\n",
              "        document.querySelector('#df-09704897-f2c0-45ad-b165-c28d9229fb1d button');\n",
              "      quickchartButtonEl.style.display =\n",
              "        google.colab.kernel.accessAllowed ? 'block' : 'none';\n",
              "    })();\n",
              "  </script>\n",
              "</div>\n",
              "    </div>\n",
              "  </div>\n"
            ]
          },
          "metadata": {},
          "execution_count": 3
        }
      ]
    },
    {
      "cell_type": "code",
      "source": [
        "plt.style.use('dark_background')\n",
        "plt.figure(figsize=(12, 5))\n",
        "plt.title('Distribution of classes in training data')\n",
        "\n",
        "sns.histplot(y=df_train['is_there_an_emotion_directed_at_a_brand_or_product']);"
      ],
      "metadata": {
        "colab": {
          "base_uri": "https://localhost:8080/",
          "height": 487
        },
        "id": "j98QG2nvXaK5",
        "outputId": "226e9ccc-5bc9-4c95-dfaf-7056710d3c13"
      },
      "execution_count": 4,
      "outputs": [
        {
          "output_type": "display_data",
          "data": {
            "text/plain": [
              "<Figure size 1200x500 with 1 Axes>"
            ],
            "image/png": "[encoded data removed]"
          },
          "metadata": {}
        }
      ]
    },
    {
      "cell_type": "code",
      "source": [
        "df_test = pd.read_csv(TEST_PATH)\n",
        "print(df_test.shape)\n",
        "df_test.head()"
      ],
      "metadata": {
        "colab": {
          "base_uri": "https://localhost:8080/",
          "height": 223
        },
        "id": "etOgMgWUanpT",
        "outputId": "a3d37be9-0137-4963-ba67-fbf91d871986"
      },
      "execution_count": 5,
      "outputs": [
        {
          "output_type": "stream",
          "name": "stdout",
          "text": [
            "(504, 1)\n"
          ]
        },
        {
          "output_type": "execute_result",
          "data": {
            "text/plain": [
              "                                               Tweet\n",
              "0  Hand-Held ���Hobo�۪: Drafthouse launches ���Ho...\n",
              "1  Again? RT @mention Line at the Apple store is ...\n",
              "2  Boooo! RT @mention Flipboard is developing an ...\n",
              "3  Thanks to @mention for publishing the news of ...\n",
              "4  ���@mention &quot;Apple has opened a pop-up st..."
            ],
            "text/html": [
              "\n",
              "  <div id=\"df-aa0d68c9-7f00-4f3b-971b-04967f5183a3\" class=\"colab-df-container\">\n",
              "    <div>\n",
              "<style scoped>\n",
              "    .dataframe tbody tr th:only-of-type {\n",
              "        vertical-align: middle;\n",
              "    }\n",
              "\n",
              "    .dataframe tbody tr th {\n",
              "        vertical-align: top;\n",
              "    }\n",
              "\n",
              "    .dataframe thead th {\n",
              "        text-align: right;\n",
              "    }\n",
              "</style>\n",
              "<table border=\"1\" class=\"dataframe\">\n",
              "  <thead>\n",
              "    <tr style=\"text-align: right;\">\n",
              "      <th></th>\n",
              "      <th>Tweet</th>\n",
              "    </tr>\n",
              "  </thead>\n",
              "  <tbody>\n",
              "    <tr>\n",
              "      <th>0</th>\n",
              "      <td>Hand-Held ���Hobo�۪: Drafthouse launches ���Ho...</td>\n",
              "    </tr>\n",
              "    <tr>\n",
              "      <th>1</th>\n",
              "      <td>Again? RT @mention Line at the Apple store is ...</td>\n",
              "    </tr>\n",
              "    <tr>\n",
              "      <th>2</th>\n",
              "      <td>Boooo! RT @mention Flipboard is developing an ...</td>\n",
              "    </tr>\n",
              "    <tr>\n",
              "      <th>3</th>\n",
              "      <td>Thanks to @mention for publishing the news of ...</td>\n",
              "    </tr>\n",
              "    <tr>\n",
              "      <th>4</th>\n",
              "      <td>���@mention &amp;quot;Apple has opened a pop-up st...</td>\n",
              "    </tr>\n",
              "  </tbody>\n",
              "</table>\n",
              "</div>\n",
              "    <div class=\"colab-df-buttons\">\n",
              "\n",
              "  <div class=\"colab-df-container\">\n",
              "    <button class=\"colab-df-convert\" onclick=\"convertToInteractive('df-aa0d68c9-7f00-4f3b-971b-04967f5183a3')\"\n",
              "            title=\"Convert this dataframe to an interactive table.\"\n",
              "            style=\"display:none;\">\n",
              "\n",
              "  <svg xmlns=\"http://www.w3.org/2000/svg\" height=\"24px\" viewBox=\"0 -960 960 960\">\n",
              "    <path d=\"M120-120v-720h720v720H120Zm60-500h600v-160H180v160Zm220 220h160v-160H400v160Zm0 220h160v-160H400v160ZM180-400h160v-160H180v160Zm440 0h160v-160H620v160ZM180-180h160v-160H180v160Zm440 0h160v-160H620v160Z\"/>\n",
              "  </svg>\n",
              "    </button>\n",
              "\n",
              "  <style>\n",
              "    .colab-df-container {\n",
              "      display:flex;\n",
              "      gap: 12px;\n",
              "    }\n",
              "\n",
              "    .colab-df-convert {\n",
              "      background-color: #E8F0FE;\n",
              "      border: none;\n",
              "      border-radius: 50%;\n",
              "      cursor: pointer;\n",
              "      display: none;\n",
              "      fill: #1967D2;\n",
              "      height: 32px;\n",
              "      padding: 0 0 0 0;\n",
              "      width: 32px;\n",
              "    }\n",
              "\n",
              "    .colab-df-convert:hover {\n",
              "      background-color: #E2EBFA;\n",
              "      box-shadow: 0px 1px 2px rgba(60, 64, 67, 0.3), 0px 1px 3px 1px rgba(60, 64, 67, 0.15);\n",
              "      fill: #174EA6;\n",
              "    }\n",
              "\n",
              "    .colab-df-buttons div {\n",
              "      margin-bottom: 4px;\n",
              "    }\n",
              "\n",
              "    [theme=dark] .colab-df-convert {\n",
              "      background-color: #3B4455;\n",
              "      fill: #D2E3FC;\n",
              "    }\n",
              "\n",
              "    [theme=dark] .colab-df-convert:hover {\n",
              "      background-color: #434B5C;\n",
              "      box-shadow: 0px 1px 3px 1px rgba(0, 0, 0, 0.15);\n",
              "      filter: drop-shadow(0px 1px 2px rgba(0, 0, 0, 0.3));\n",
              "      fill: #FFFFFF;\n",
              "    }\n",
              "  </style>\n",
              "\n",
              "    <script>\n",
              "      const buttonEl =\n",
              "        document.querySelector('#df-aa0d68c9-7f00-4f3b-971b-04967f5183a3 button.colab-df-convert');\n",
              "      buttonEl.style.display =\n",
              "        google.colab.kernel.accessAllowed ? 'block' : 'none';\n",
              "\n",
              "      async function convertToInteractive(key) {\n",
              "        const element = document.querySelector('#df-aa0d68c9-7f00-4f3b-971b-04967f5183a3');\n",
              "        const dataTable =\n",
              "          await google.colab.kernel.invokeFunction('convertToInteractive',\n",
              "                                                    [key], {});\n",
              "        if (!dataTable) return;\n",
              "\n",
              "        const docLinkHtml = 'Like what you see? Visit the ' +\n",
              "          '<a target=\"_blank\" href=https://colab.research.google.com/notebooks/data_table.ipynb>data table notebook</a>'\n",
              "          + ' to learn more about interactive tables.';\n",
              "        element.innerHTML = '';\n",
              "        dataTable['output_type'] = 'display_data';\n",
              "        await google.colab.output.renderOutput(dataTable, element);\n",
              "        const docLink = document.createElement('div');\n",
              "        docLink.innerHTML = docLinkHtml;\n",
              "        element.appendChild(docLink);\n",
              "      }\n",
              "    </script>\n",
              "  </div>\n",
              "\n",
              "\n",
              "<div id=\"df-8d6c5b36-3231-48a7-be9e-7a258995bf2d\">\n",
              "  <button class=\"colab-df-quickchart\" onclick=\"quickchart('df-8d6c5b36-3231-48a7-be9e-7a258995bf2d')\"\n",
              "            title=\"Suggest charts\"\n",
              "            style=\"display:none;\">\n",
              "\n",
              "<svg xmlns=\"http://www.w3.org/2000/svg\" height=\"24px\"viewBox=\"0 0 24 24\"\n",
              "     width=\"24px\">\n",
              "    <g>\n",
              "        <path d=\"M19 3H5c-1.1 0-2 .9-2 2v14c0 1.1.9 2 2 2h14c1.1 0 2-.9 2-2V5c0-1.1-.9-2-2-2zM9 17H7v-7h2v7zm4 0h-2V7h2v10zm4 0h-2v-4h2v4z\"/>\n",
              "    </g>\n",
              "</svg>\n",
              "  </button>\n",
              "\n",
              "<style>\n",
              "  .colab-df-quickchart {\n",
              "      --bg-color: #E8F0FE;\n",
              "      --fill-color: #1967D2;\n",
              "      --hover-bg-color: #E2EBFA;\n",
              "      --hover-fill-color: #174EA6;\n",
              "      --disabled-fill-color: #AAA;\n",
              "      --disabled-bg-color: #DDD;\n",
              "  }\n",
              "\n",
              "  [theme=dark] .colab-df-quickchart {\n",
              "      --bg-color: #3B4455;\n",
              "      --fill-color: #D2E3FC;\n",
              "      --hover-bg-color: #434B5C;\n",
              "      --hover-fill-color: #FFFFFF;\n",
              "      --disabled-bg-color: #3B4455;\n",
              "      --disabled-fill-color: #666;\n",
              "  }\n",
              "\n",
              "  .colab-df-quickchart {\n",
              "    background-color: var(--bg-color);\n",
              "    border: none;\n",
              "    border-radius: 50%;\n",
              "    cursor: pointer;\n",
              "    display: none;\n",
              "    fill: var(--fill-color);\n",
              "    height: 32px;\n",
              "    padding: 0;\n",
              "    width: 32px;\n",
              "  }\n",
              "\n",
              "  .colab-df-quickchart:hover {\n",
              "    background-color: var(--hover-bg-color);\n",
              "    box-shadow: 0 1px 2px rgba(60, 64, 67, 0.3), 0 1px 3px 1px rgba(60, 64, 67, 0.15);\n",
              "    fill: var(--button-hover-fill-color);\n",
              "  }\n",
              "\n",
              "  .colab-df-quickchart-complete:disabled,\n",
              "  .colab-df-quickchart-complete:disabled:hover {\n",
              "    background-color: var(--disabled-bg-color);\n",
              "    fill: var(--disabled-fill-color);\n",
              "    box-shadow: none;\n",
              "  }\n",
              "\n",
              "  .colab-df-spinner {\n",
              "    border: 2px solid var(--fill-color);\n",
              "    border-color: transparent;\n",
              "    border-bottom-color: var(--fill-color);\n",
              "    animation:\n",
              "      spin 1s steps(1) infinite;\n",
              "  }\n",
              "\n",
              "  @keyframes spin {\n",
              "    0% {\n",
              "      border-color: transparent;\n",
              "      border-bottom-color: var(--fill-color);\n",
              "      border-left-color: var(--fill-color);\n",
              "    }\n",
              "    20% {\n",
              "      border-color: transparent;\n",
              "      border-left-color: var(--fill-color);\n",
              "      border-top-color: var(--fill-color);\n",
              "    }\n",
              "    30% {\n",
              "      border-color: transparent;\n",
              "      border-left-color: var(--fill-color);\n",
              "      border-top-color: var(--fill-color);\n",
              "      border-right-color: var(--fill-color);\n",
              "    }\n",
              "    40% {\n",
              "      border-color: transparent;\n",
              "      border-right-color: var(--fill-color);\n",
              "      border-top-color: var(--fill-color);\n",
              "    }\n",
              "    60% {\n",
              "      border-color: transparent;\n",
              "      border-right-color: var(--fill-color);\n",
              "    }\n",
              "    80% {\n",
              "      border-color: transparent;\n",
              "      border-right-color: var(--fill-color);\n",
              "      border-bottom-color: var(--fill-color);\n",
              "    }\n",
              "    90% {\n",
              "      border-color: transparent;\n",
              "      border-bottom-color: var(--fill-color);\n",
              "    }\n",
              "  }\n",
              "</style>\n",
              "\n",
              "  <script>\n",
              "    async function quickchart(key) {\n",
              "      const quickchartButtonEl =\n",
              "        document.querySelector('#' + key + ' button');\n",
              "      quickchartButtonEl.disabled = true;  // To prevent multiple clicks.\n",
              "      quickchartButtonEl.classList.add('colab-df-spinner');\n",
              "      try {\n",
              "        const charts = await google.colab.kernel.invokeFunction(\n",
              "            'suggestCharts', [key], {});\n",
              "      } catch (error) {\n",
              "        console.error('Error during call to suggestCharts:', error);\n",
              "      }\n",
              "      quickchartButtonEl.classList.remove('colab-df-spinner');\n",
              "      quickchartButtonEl.classList.add('colab-df-quickchart-complete');\n",
              "    }\n",
              "    (() => {\n",
              "      let quickchartButtonEl =\n",
              "        document.querySelector('#df-8d6c5b36-3231-48a7-be9e-7a258995bf2d button');\n",
              "      quickchartButtonEl.style.display =\n",
              "        google.colab.kernel.accessAllowed ? 'block' : 'none';\n",
              "    })();\n",
              "  </script>\n",
              "</div>\n",
              "    </div>\n",
              "  </div>\n"
            ]
          },
          "metadata": {},
          "execution_count": 5
        }
      ]
    },
    {
      "cell_type": "markdown",
      "source": [
        "# TF-IDF and Logistic Regression from scratch"
      ],
      "metadata": {
        "id": "ybtUn-4K1P_h"
      }
    },
    {
      "cell_type": "markdown",
      "source": [
        "## TfidfVectorizer from scratch"
      ],
      "metadata": {
        "id": "BOnfL29OhkSq"
      }
    },
    {
      "cell_type": "code",
      "source": [
        "def own_tokenizer(sample: str, min_token_length: int) -> List[str]:\n",
        "    \"\"\"\n",
        "    Selects occurrences consisting of digits or letters of the English alphabet with a length of at least min_token_length.\n",
        "\n",
        "    :param sample: source string;\n",
        "    :param min_token_length: minimum token length;\n",
        "    :return: list of tokens.\n",
        "    \"\"\"\n",
        "    sample = sample.lower()\n",
        "    tokens_of_sample = re.findall(r'[\\w\\d]+', sample)\n",
        "    return [token for token in tokens_of_sample if len(token) >= min_token_length]\n",
        "\n",
        "def nltk_tokenizer(tokenizer: nltk.tokenize, sample: str,\n",
        "                   stop_words: set) -> list[str]:\n",
        "    \"\"\"\n",
        "    NLTK tokenizer with stopwords.\n",
        "\n",
        "    :param tokenizer: NLTK tokenizer;\n",
        "    :param sample: source string;\n",
        "    :param stop_words: stop words for language;\n",
        "    :return: list of tokens.\n",
        "    \"\"\"\n",
        "    tokens_of_sample = tokenizer.tokenize(sample.lower())\n",
        "    return [token for token in tokens_of_sample if token not in stop_words]"
      ],
      "metadata": {
        "id": "MI5yYS3_3Z2n"
      },
      "execution_count": 6,
      "outputs": []
    },
    {
      "cell_type": "code",
      "source": [
        "tokenizer = TweetTokenizer()\n",
        "en_stop_words = set(stopwords.words('english'))\n",
        "corpus = df_train[df_train.columns[0]].tolist()\n",
        "y = df_train[df_train.columns[1]].tolist()\n",
        "\n",
        "own_tokenize = [own_tokenizer(sample=text, min_token_length=4) for text in corpus]\n",
        "nltk_tokenize = [nltk_tokenizer(tokenizer,\n",
        "                                sample=text,\n",
        "                                stop_words=en_stop_words) for text in corpus]\n",
        "\n",
        "' '.join(own_tokenize[0]), ' '.join(nltk_tokenize[0])"
      ],
      "metadata": {
        "colab": {
          "base_uri": "https://localhost:8080/"
        },
        "id": "Tq4fwNW2kFQo",
        "outputId": "0be61bd9-cdda-4c86-f59c-dbdc762ffd20"
      },
      "execution_count": 7,
      "outputs": [
        {
          "output_type": "execute_result",
          "data": {
            "text/plain": [
              "('wesley83 have iphone after tweeting rise_austin dead need upgrade plugin stations sxsw',\n",
              " '. @wesley83 3g iphone . 3 hrs tweeting #rise_austin , dead ! need upgrade . plugin stations #sxsw .')"
            ]
          },
          "metadata": {},
          "execution_count": 7
        }
      ]
    },
    {
      "cell_type": "code",
      "source": [
        "X_own_train, X_own_val, y_train, y_val = train_test_split(own_tokenize, y,\n",
        "                                                          test_size=0.2,\n",
        "                                                          stratify=y,\n",
        "                                                          shuffle=True,\n",
        "                                                          random_state=RANDOM_STATE)\n",
        "\n",
        "X_nltk_train, X_nltk_val, _, _ = train_test_split(nltk_tokenize, y,\n",
        "                                                  test_size=0.2,\n",
        "                                                  stratify=y,\n",
        "                                                  shuffle=True,\n",
        "                                                  random_state=RANDOM_STATE)"
      ],
      "metadata": {
        "id": "mSWptiwZ1I-S"
      },
      "execution_count": 8,
      "outputs": []
    },
    {
      "cell_type": "code",
      "source": [
        "def get_vocabulary(tokenized_texts: list[list[str]], max_df: float,\n",
        "                   min_df: int) -> Tuple[dict, np.array]:\n",
        "    \"\"\"\n",
        "    Сreates a token vocabulary.\n",
        "\n",
        "    :param tokenized_texts: source list;\n",
        "    :param max_df: threshold document frequency;\n",
        "    :param min_df: minimum token count;\n",
        "    :return: vocabulary with frequencies.\n",
        "    \"\"\"\n",
        "    token_cnt = collections.defaultdict(int)\n",
        "    number_of_documents = len(tokenized_texts)\n",
        "\n",
        "    for text in tokenized_texts:\n",
        "        cur_unique_tokens = set(text)\n",
        "\n",
        "        for token in cur_unique_tokens:\n",
        "            token_cnt[token] += 1\n",
        "\n",
        "    token_cnt = {token: cnt for token, cnt in token_cnt.items()\n",
        "                 if (cnt / number_of_documents <= max_df) and (cnt >= min_df)}\n",
        "\n",
        "    sorted_token_cnt = sorted(token_cnt.items(),\n",
        "                              key=lambda x: x[1],\n",
        "                              reverse=True)\n",
        "\n",
        "    token2id = {token: i for i, (token, _) in enumerate(sorted_token_cnt)}\n",
        "    doc_freq = np.array([cnt / number_of_documents for _, cnt in sorted_token_cnt], dtype=np.float32)\n",
        "\n",
        "    return token2id, doc_freq"
      ],
      "metadata": {
        "id": "9V1BjSzMIJpb"
      },
      "execution_count": 9,
      "outputs": []
    },
    {
      "cell_type": "code",
      "source": [
        "own_vocab, own_doc_freq = get_vocabulary(tokenized_texts=X_own_train,\n",
        "                                         max_df=MAX_DF,\n",
        "                                         min_df=MIN_DF)\n",
        "\n",
        "nltk_vocab, nltk_doc_freq = get_vocabulary(tokenized_texts=X_nltk_train,\n",
        "                                           max_df=MAX_DF,\n",
        "                                           min_df=MIN_DF)\n",
        "len(own_vocab), len(nltk_vocab)"
      ],
      "metadata": {
        "colab": {
          "base_uri": "https://localhost:8080/"
        },
        "id": "oiye7uJ-Mj_C",
        "outputId": "e81dfda0-301c-4293-d686-62b6388d56c3"
      },
      "execution_count": 10,
      "outputs": [
        {
          "output_type": "execute_result",
          "data": {
            "text/plain": [
              "(1721, 2001)"
            ]
          },
          "metadata": {},
          "execution_count": 10
        }
      ]
    },
    {
      "cell_type": "code",
      "source": [
        "def vectorize_texts(tokenized_texts: list[list[int]], vocab: dict,\n",
        "                    doc_freq: list[float]) -> scipy.sparse.dok_matrix:\n",
        "    \"\"\"\n",
        "    Creates a sparse feature matrix.\n",
        "\n",
        "    :param tokenized_texts: source list;\n",
        "    :param vocab: vocabulary of source list;\n",
        "    :param doc_freq: fraction of documents with a certain token to all documents;\n",
        "    :return: sparse feature matrix.\n",
        "    \"\"\"\n",
        "    matrix = scipy.sparse.dok_matrix((len(tokenized_texts), len(vocab)), dtype=np.float32)\n",
        "\n",
        "    for i, text in enumerate(tokenized_texts):\n",
        "        for token in text:\n",
        "            if token in vocab.keys():\n",
        "                matrix[i, vocab[token]] += 1\n",
        "\n",
        "    matrix = matrix.tocsr()\n",
        "    matrix = matrix.multiply(1 / matrix.sum(1))\n",
        "    matrix = matrix.multiply(1 / doc_freq)\n",
        "\n",
        "    matrix = matrix.tocsc()\n",
        "    matrix -= matrix.min()\n",
        "    matrix /= (matrix.max() + 1e-6)\n",
        "    matrix = matrix.tocsr()\n",
        "\n",
        "    return matrix"
      ],
      "metadata": {
        "id": "zEK3s__KZgYF"
      },
      "execution_count": 11,
      "outputs": []
    },
    {
      "cell_type": "code",
      "source": [
        "train_own_vectors = vectorize_texts(X_own_train, own_vocab, own_doc_freq)\n",
        "val_own_vectors = vectorize_texts(X_own_val, own_vocab, own_doc_freq)\n",
        "\n",
        "train_nltk_vectors = vectorize_texts(X_nltk_train, nltk_vocab, nltk_doc_freq)\n",
        "val_nltk_vectors = vectorize_texts(X_nltk_val, nltk_vocab, nltk_doc_freq)\n",
        "\n",
        "print(train_own_vectors.shape, val_own_vectors.shape, \\\n",
        "      train_nltk_vectors.shape, val_nltk_vectors.shape, sep='\\n')"
      ],
      "metadata": {
        "colab": {
          "base_uri": "https://localhost:8080/"
        },
        "id": "TWdoar4wZpPX",
        "outputId": "68657f64-e211-4cfa-996b-48ead195c304"
      },
      "execution_count": 12,
      "outputs": [
        {
          "output_type": "stream",
          "name": "stdout",
          "text": [
            "(6841, 1721)\n",
            "(1711, 1721)\n",
            "(6841, 2001)\n",
            "(1711, 2001)\n"
          ]
        }
      ]
    },
    {
      "cell_type": "markdown",
      "source": [
        "## Logistic Regression from scratch"
      ],
      "metadata": {
        "id": "diEIcBaQhrYS"
      }
    },
    {
      "cell_type": "code",
      "source": [
        "label_name2id = {name: i for i, name in enumerate(set(y_train))}\n",
        "label_name2id"
      ],
      "metadata": {
        "colab": {
          "base_uri": "https://localhost:8080/"
        },
        "id": "2X32I4i707JR",
        "outputId": "8800699d-94e4-4bc3-e95c-d036007a62ed"
      },
      "execution_count": 13,
      "outputs": [
        {
          "output_type": "execute_result",
          "data": {
            "text/plain": [
              "{'No emotion toward brand or product': 0,\n",
              " 'Negative emotion': 1,\n",
              " 'Positive emotion': 2}"
            ]
          },
          "metadata": {},
          "execution_count": 13
        }
      ]
    },
    {
      "cell_type": "code",
      "source": [
        "class CustomDataset(Dataset):\n",
        "    def __init__(self, vectors: scipy.sparse.dok_matrix,\n",
        "                 label_ids: list,\n",
        "                 label_name2id: dict) -> NoReturn:\n",
        "        self.vectors = vectors\n",
        "        self.label_ids = label_ids\n",
        "        self.label_name2id = label_name2id\n",
        "\n",
        "    def __len__(self) -> int:\n",
        "        return self.vectors.shape[0]\n",
        "\n",
        "    def __getitem__(self, idx: int) -> Tuple[torch.tensor, torch.tensor]:\n",
        "        out_vectors = torch.from_numpy(self.vectors[idx].toarray()[0])\n",
        "        out_label = torch.tensor(self.label_name2id[self.label_ids[idx]])\n",
        "        return out_vectors, out_label"
      ],
      "metadata": {
        "id": "TbcygBRBhuST"
      },
      "execution_count": 14,
      "outputs": []
    },
    {
      "cell_type": "code",
      "source": [
        "train_own_ds = CustomDataset(train_own_vectors, y_train, label_name2id)\n",
        "val_own_ds = CustomDataset(val_own_vectors, y_val, label_name2id)\n",
        "\n",
        "train_nltk_ds = CustomDataset(train_nltk_vectors, y_train, label_name2id)\n",
        "val_nltk_ds = CustomDataset(val_nltk_vectors, y_val, label_name2id)"
      ],
      "metadata": {
        "id": "PH3Q-1ZW2vJ7"
      },
      "execution_count": 15,
      "outputs": []
    },
    {
      "cell_type": "code",
      "source": [
        "batch_size = 32\n",
        "\n",
        "train_own_dl = DataLoader(dataset=train_own_ds, batch_size=batch_size,\n",
        "                          shuffle=True, drop_last=True)\n",
        "val_own_dl = DataLoader(dataset=val_own_ds, batch_size=batch_size,\n",
        "                        shuffle=True, drop_last=True)\n",
        "\n",
        "train_nltk_dl = DataLoader(dataset=train_nltk_ds, batch_size=batch_size,\n",
        "                           shuffle=True, drop_last=True)\n",
        "val_nltk_dl = DataLoader(dataset=val_nltk_ds, batch_size=batch_size,\n",
        "                         shuffle=True, drop_last=True)"
      ],
      "metadata": {
        "id": "6OXAHwTp5HPe"
      },
      "execution_count": 16,
      "outputs": []
    },
    {
      "cell_type": "code",
      "source": [
        "class LogisticRegression(nn.Module):\n",
        "    def __init__(self, in_size: int,\n",
        "                 out_size: int=3) -> NoReturn:\n",
        "        super().__init__()\n",
        "        self.fc1 = nn.Linear(in_size, out_size)\n",
        "        self.act = nn.Sigmoid()\n",
        "\n",
        "    def forward(self, x: torch.tensor) -> torch.tensor:\n",
        "        out = self.fc1(x)\n",
        "        out = self.act(out)\n",
        "        return out"
      ],
      "metadata": {
        "id": "zZoqQiY77EfQ"
      },
      "execution_count": 17,
      "outputs": []
    },
    {
      "cell_type": "code",
      "source": [
        "device = 'cuda' if torch.cuda.is_available() else 'cpu'\n",
        "model = LogisticRegression(len(own_vocab))\n",
        "criterion = F.cross_entropy\n",
        "optimizer = torch.optim.Adam(params=model.parameters(), lr=1e-1,\n",
        "                             betas=(0.9, 0.999), amsgrad=True)\n",
        "scheduler = torch.optim.lr_scheduler.StepLR(optimizer, step_size=30, gamma=0.1)\n",
        "epochs_num = 150\n",
        "tokenizer_owner = 'Own tokenizer'\n",
        "\n",
        "best_own_epoch, best_own_loss, best_own_model = train_model(model=model, device=device,\n",
        "                                                            criterion=criterion,\n",
        "                                                            optimizer=optimizer,\n",
        "                                                            scheduler=scheduler,\n",
        "                                                            train_dl=train_own_dl,\n",
        "                                                            val_dl=val_own_dl,\n",
        "                                                            epochs_num=epochs_num,\n",
        "                                                            suptitle_name=tokenizer_owner)"
      ],
      "metadata": {
        "id": "q1DkwZcy8xA2",
        "colab": {
          "base_uri": "https://localhost:8080/",
          "height": 504
        },
        "outputId": "ee659097-b26a-4f01-e729-7430d9721766"
      },
      "execution_count": 18,
      "outputs": [
        {
          "output_type": "display_data",
          "data": {
            "text/plain": [
              "<Figure size 2500x800 with 2 Axes>"
            ],
            "image/png": "[encoded data removed]"
          },
          "metadata": {}
        }
      ]
    },
    {
      "cell_type": "code",
      "source": [
        "print(f'Own tokenizer:\\n\\\n",
        "Best epoch with minimum validation loss = {best_own_epoch}\\n\\\n",
        "Minimum validation loss = {np.around(best_own_loss, 4)}')"
      ],
      "metadata": {
        "colab": {
          "base_uri": "https://localhost:8080/"
        },
        "id": "KThp99PXNUIZ",
        "outputId": "ad0e0527-e686-40ba-c11c-46e03c3fd407"
      },
      "execution_count": 19,
      "outputs": [
        {
          "output_type": "stream",
          "name": "stdout",
          "text": [
            "Own tokenizer:\n",
            "Best epoch with minimum validation loss = 27\n",
            "Minimum validation loss = 0.842\n"
          ]
        }
      ]
    },
    {
      "cell_type": "code",
      "source": [
        "device = 'cuda' if torch.cuda.is_available() else 'cpu'\n",
        "model = LogisticRegression(len(nltk_vocab))\n",
        "criterion = F.cross_entropy\n",
        "optimizer = torch.optim.Adam(params=model.parameters(), lr=1e-1,\n",
        "                             betas=(0.9, 0.999), amsgrad=True)\n",
        "scheduler = torch.optim.lr_scheduler.StepLR(optimizer, step_size=30, gamma=0.1)\n",
        "epochs_num = 150\n",
        "tokenizer_owner = 'NLTK tokenizer'\n",
        "\n",
        "best_nltk_epoch, best_nltk_loss, best_nltk_model = train_model(model=model, device=device,\n",
        "                                                               criterion=criterion,\n",
        "                                                               optimizer=optimizer,\n",
        "                                                               scheduler=scheduler,\n",
        "                                                               train_dl=train_nltk_dl,\n",
        "                                                               val_dl=val_nltk_dl,\n",
        "                                                               epochs_num=epochs_num,\n",
        "                                                               suptitle_name=tokenizer_owner)"
      ],
      "metadata": {
        "colab": {
          "base_uri": "https://localhost:8080/",
          "height": 504
        },
        "id": "FE4AnT-LRXiU",
        "outputId": "86db93f1-3596-499a-dc1f-3caf7dcb002d"
      },
      "execution_count": 20,
      "outputs": [
        {
          "output_type": "display_data",
          "data": {
            "text/plain": [
              "<Figure size 2500x800 with 2 Axes>"
            ],
            "image/png": "[encoded data removed]"
          },
          "metadata": {}
        }
      ]
    },
    {
      "cell_type": "code",
      "source": [
        "print(f'NLTK tokenizer:\\n\\\n",
        "Best epoch with minimum validation loss = {best_nltk_epoch}\\n\\\n",
        "Minimum validation loss = {np.around(best_nltk_loss, 4)}')"
      ],
      "metadata": {
        "colab": {
          "base_uri": "https://localhost:8080/"
        },
        "id": "dYg2tcjWRxFx",
        "outputId": "612c08ea-c405-4b63-f00c-1c2d033e0145"
      },
      "execution_count": 21,
      "outputs": [
        {
          "output_type": "stream",
          "name": "stdout",
          "text": [
            "NLTK tokenizer:\n",
            "Best epoch with minimum validation loss = 24\n",
            "Minimum validation loss = 0.8426\n"
          ]
        }
      ]
    },
    {
      "cell_type": "markdown",
      "source": [
        "Since our own model has the smallest validation error, we will continue working with it."
      ],
      "metadata": {
        "id": "7Sr2z_-9AQFX"
      }
    },
    {
      "cell_type": "code",
      "source": [
        "pred = predict_model(model=best_own_model, dl=val_own_dl, device=device)\n",
        "pred.shape, pred[0]"
      ],
      "metadata": {
        "colab": {
          "base_uri": "https://localhost:8080/",
          "height": 66,
          "referenced_widgets": [
            "c6ec87bcc93243f0951c5e737a3023d2",
            "c9c2526ef31b47bd878a338dc6586341",
            "912ed03eb97d427f83df1965cb5a84c6",
            "b3e8ab85cbdf44d7b6e6d32e0abb6c3e",
            "c96babc6c0d342269af10a616cf2889f",
            "40eed11ddfcf4117ae2ccc39c377b94d",
            "64fd7f67380147e8b65f9cd4417751db",
            "9c03860e01664593a75d372837562e34",
            "a9a1ea42f346464e95759934727d1764",
            "f6440218b3cd4cd18e5b13e17c3030a0",
            "b9cedc1a6e0d4777822858e0a928c2fb"
          ]
        },
        "id": "vy37a1haSHs6",
        "outputId": "1e9861c1-f3e2-45a7-e12d-63cb0a1fb693"
      },
      "execution_count": 22,
      "outputs": [
        {
          "output_type": "display_data",
          "data": {
            "text/plain": [
              "  0%|          | 0/53 [00:00<?, ?it/s]"
            ],
            "application/vnd.jupyter.widget-view+json": {
              "version_major": 2,
              "version_minor": 0,
              "model_id": "c6ec87bcc93243f0951c5e737a3023d2"
            }
          },
          "metadata": {}
        },
        {
          "output_type": "execute_result",
          "data": {
            "text/plain": [
              "((1696,), 2)"
            ]
          },
          "metadata": {},
          "execution_count": 22
        }
      ]
    },
    {
      "cell_type": "code",
      "source": [
        "label_id2name = {val: key for key, val in label_name2id.items()}\n",
        "f = lambda x: label_id2name[x]\n",
        "\n",
        "y_pred_from_scratch = np.array([f(label) for label in pred])\n",
        "y_pred_from_scratch[0]"
      ],
      "metadata": {
        "colab": {
          "base_uri": "https://localhost:8080/",
          "height": 35
        },
        "id": "IWr848b7B8mX",
        "outputId": "dcf5bb89-2042-42c8-f1c1-27d19145e69c"
      },
      "execution_count": 23,
      "outputs": [
        {
          "output_type": "execute_result",
          "data": {
            "text/plain": [
              "'Positive emotion'"
            ],
            "application/vnd.google.colaboratory.intrinsic+json": {
              "type": "string"
            }
          },
          "metadata": {},
          "execution_count": 23
        }
      ]
    },
    {
      "cell_type": "code",
      "source": [
        "len(y_val), y_pred_from_scratch.shape"
      ],
      "metadata": {
        "colab": {
          "base_uri": "https://localhost:8080/"
        },
        "id": "wVO9iDmyC5xY",
        "outputId": "f21c8a32-e8dc-4ad0-f52a-0f06852c3cf1"
      },
      "execution_count": 24,
      "outputs": [
        {
          "output_type": "execute_result",
          "data": {
            "text/plain": [
              "(1711, (1696,))"
            ]
          },
          "metadata": {},
          "execution_count": 24
        }
      ]
    },
    {
      "cell_type": "code",
      "source": [
        "print(classification_report(y_val[0:1696], y_pred_from_scratch))"
      ],
      "metadata": {
        "colab": {
          "base_uri": "https://localhost:8080/"
        },
        "id": "_uA4LPjcCejZ",
        "outputId": "340ba7d2-c5eb-42db-cc13-54c4246e975a"
      },
      "execution_count": 25,
      "outputs": [
        {
          "output_type": "stream",
          "name": "stdout",
          "text": [
            "                                    precision    recall  f1-score   support\n",
            "\n",
            "                  Negative emotion       0.06      0.02      0.03       104\n",
            "No emotion toward brand or product       0.63      0.77      0.69      1063\n",
            "                  Positive emotion       0.32      0.22      0.26       529\n",
            "\n",
            "                          accuracy                           0.55      1696\n",
            "                         macro avg       0.34      0.34      0.33      1696\n",
            "                      weighted avg       0.50      0.55      0.52      1696\n",
            "\n"
          ]
        }
      ]
    },
    {
      "cell_type": "markdown",
      "source": [
        "# TF-IDF and Logistic Regression from scikit-learn"
      ],
      "metadata": {
        "id": "Kfe1UFNr14qI"
      }
    },
    {
      "cell_type": "code",
      "source": [
        "vectorizer = TfidfVectorizer(max_df=MAX_DF, min_df=MIN_DF)\n",
        "X = vectorizer.fit_transform(df_train['tweet_text'])\n",
        "\n",
        "X, len(y)"
      ],
      "metadata": {
        "id": "xnSByH4_2q7X",
        "colab": {
          "base_uri": "https://localhost:8080/"
        },
        "outputId": "25c241e4-092d-4048-84da-1fa5b60948dd"
      },
      "execution_count": 26,
      "outputs": [
        {
          "output_type": "execute_result",
          "data": {
            "text/plain": [
              "(<8552x2363 sparse matrix of type '<class 'numpy.float64'>'\n",
              " \twith 118527 stored elements in Compressed Sparse Row format>,\n",
              " 8552)"
            ]
          },
          "metadata": {},
          "execution_count": 26
        }
      ]
    },
    {
      "cell_type": "code",
      "source": [
        "from sklearn.linear_model import LogisticRegression"
      ],
      "metadata": {
        "id": "-A_ZYSM0oAjt"
      },
      "execution_count": 28,
      "outputs": []
    },
    {
      "cell_type": "code",
      "source": [
        "X_train, X_val, _, _ = train_test_split(X, y, test_size=0.2,\n",
        "                                        stratify=y, shuffle=True,\n",
        "                                        random_state=RANDOM_STATE)\n",
        "\n",
        "clf = LogisticRegression(multi_class='auto', random_state=RANDOM_STATE,\n",
        "                         n_jobs=-1)\n",
        "clf.fit(X_train, y_train)\n",
        "clf.score(X_train, y_train), clf.score(X_val, y_val)"
      ],
      "metadata": {
        "id": "3_InBDvmbpol",
        "colab": {
          "base_uri": "https://localhost:8080/"
        },
        "outputId": "d07a0491-e885-4ce3-f912-4d446affe26a"
      },
      "execution_count": 29,
      "outputs": [
        {
          "output_type": "execute_result",
          "data": {
            "text/plain": [
              "(0.7916971203040492, 0.7048509643483343)"
            ]
          },
          "metadata": {},
          "execution_count": 29
        }
      ]
    },
    {
      "cell_type": "code",
      "source": [
        "y_pred_sklearn = clf.predict(X_val)\n",
        "print(classification_report(y_val, y_pred_sklearn))"
      ],
      "metadata": {
        "id": "PIkzzlGWeDKB",
        "colab": {
          "base_uri": "https://localhost:8080/"
        },
        "outputId": "19e45281-bb29-41f7-d3ea-242a180ff274"
      },
      "execution_count": 30,
      "outputs": [
        {
          "output_type": "stream",
          "name": "stdout",
          "text": [
            "                                    precision    recall  f1-score   support\n",
            "\n",
            "                  Negative emotion       0.78      0.07      0.12       104\n",
            "No emotion toward brand or product       0.73      0.90      0.80      1075\n",
            "                  Positive emotion       0.63      0.44      0.51       532\n",
            "\n",
            "                          accuracy                           0.70      1711\n",
            "                         macro avg       0.71      0.47      0.48      1711\n",
            "                      weighted avg       0.70      0.70      0.67      1711\n",
            "\n"
          ]
        }
      ]
    },
    {
      "cell_type": "markdown",
      "source": [
        "# Comparison of results"
      ],
      "metadata": {
        "id": "5RW_nOfR2gPj"
      }
    },
    {
      "cell_type": "markdown",
      "source": [
        "## Metrics"
      ],
      "metadata": {
        "id": "NFBxuGrnGfEN"
      }
    },
    {
      "cell_type": "markdown",
      "source": [
        "### TF-IDF and Logistic Regression from scratch"
      ],
      "metadata": {
        "id": "OTZEfNKbyoMs"
      }
    },
    {
      "cell_type": "code",
      "source": [
        "print(classification_report(y_val[0:1696], y_pred_from_scratch))"
      ],
      "metadata": {
        "colab": {
          "base_uri": "https://localhost:8080/"
        },
        "id": "KpOtw_LrG8FQ",
        "outputId": "681e626a-c67d-41ff-f6dd-1c7a8a32f917"
      },
      "execution_count": 31,
      "outputs": [
        {
          "output_type": "stream",
          "name": "stdout",
          "text": [
            "                                    precision    recall  f1-score   support\n",
            "\n",
            "                  Negative emotion       0.06      0.02      0.03       104\n",
            "No emotion toward brand or product       0.63      0.77      0.69      1063\n",
            "                  Positive emotion       0.32      0.22      0.26       529\n",
            "\n",
            "                          accuracy                           0.55      1696\n",
            "                         macro avg       0.34      0.34      0.33      1696\n",
            "                      weighted avg       0.50      0.55      0.52      1696\n",
            "\n"
          ]
        }
      ]
    },
    {
      "cell_type": "markdown",
      "source": [
        "### Own TF-IDF and logistic regression from scikit-learn"
      ],
      "metadata": {
        "id": "i-vMPPvJyod-"
      }
    },
    {
      "cell_type": "code",
      "source": [
        "mixed_clf = LogisticRegression(multi_class='auto', random_state=RANDOM_STATE,\n",
        "                              n_jobs=-1)\n",
        "mixed_clf.fit(train_own_vectors, y_train)\n",
        "\n",
        "mixed_clf.score(train_own_vectors, y_train), \\\n",
        "mixed_clf.score(val_own_vectors, y_val)"
      ],
      "metadata": {
        "id": "i9xGjCq_zaRj",
        "colab": {
          "base_uri": "https://localhost:8080/"
        },
        "outputId": "820ba280-c8f6-4d33-a467-3da1260489f1"
      },
      "execution_count": 32,
      "outputs": [
        {
          "output_type": "execute_result",
          "data": {
            "text/plain": [
              "(0.6376260780587634, 0.6300409117475161)"
            ]
          },
          "metadata": {},
          "execution_count": 32
        }
      ]
    },
    {
      "cell_type": "code",
      "source": [
        "y_pred_mixed = mixed_clf.predict(val_own_vectors)\n",
        "print(classification_report(y_val, y_pred_mixed))"
      ],
      "metadata": {
        "colab": {
          "base_uri": "https://localhost:8080/"
        },
        "id": "JsMmF82mHQq2",
        "outputId": "e5692e5a-334c-4858-c9f9-c71338873dc9"
      },
      "execution_count": 33,
      "outputs": [
        {
          "output_type": "stream",
          "name": "stdout",
          "text": [
            "                                    precision    recall  f1-score   support\n",
            "\n",
            "                  Negative emotion       0.00      0.00      0.00       104\n",
            "No emotion toward brand or product       0.63      1.00      0.77      1075\n",
            "                  Positive emotion       0.71      0.01      0.02       532\n",
            "\n",
            "                          accuracy                           0.63      1711\n",
            "                         macro avg       0.45      0.34      0.26      1711\n",
            "                      weighted avg       0.62      0.63      0.49      1711\n",
            "\n"
          ]
        }
      ]
    },
    {
      "cell_type": "markdown",
      "source": [
        "### TF-IDF and Logistic Regression from scikit-learn"
      ],
      "metadata": {
        "id": "lTTVycE3yo5T"
      }
    },
    {
      "cell_type": "code",
      "source": [
        "print(classification_report(y_val, y_pred_sklearn))"
      ],
      "metadata": {
        "colab": {
          "base_uri": "https://localhost:8080/"
        },
        "id": "ThMeR9SkHABf",
        "outputId": "5b9d3b23-0e9a-4898-b37c-5546e7ce4547"
      },
      "execution_count": 34,
      "outputs": [
        {
          "output_type": "stream",
          "name": "stdout",
          "text": [
            "                                    precision    recall  f1-score   support\n",
            "\n",
            "                  Negative emotion       0.78      0.07      0.12       104\n",
            "No emotion toward brand or product       0.73      0.90      0.80      1075\n",
            "                  Positive emotion       0.63      0.44      0.51       532\n",
            "\n",
            "                          accuracy                           0.70      1711\n",
            "                         macro avg       0.71      0.47      0.48      1711\n",
            "                      weighted avg       0.70      0.70      0.67      1711\n",
            "\n"
          ]
        }
      ]
    },
    {
      "cell_type": "markdown",
      "source": [
        "## Summary"
      ],
      "metadata": {
        "id": "XmKXFbivzLEf"
      }
    },
    {
      "cell_type": "markdown",
      "source": [
        "Both vectorizer and logistic regression from scikit-learn have many advantages, including sparse matrices, regularization, and variational vectorizers. Nevertheless, I believe that a similar result can be achieved from scratch, but there is rather little point in doing so."
      ],
      "metadata": {
        "id": "l3F91uB8MQI5"
      }
    }
  ]
}